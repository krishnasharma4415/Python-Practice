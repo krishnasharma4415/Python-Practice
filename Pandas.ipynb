{
 "cells": [
  {
   "cell_type": "code",
   "execution_count": null,
   "metadata": {},
   "outputs": [],
   "source": [
    "import numpy as np\n",
    "import pandas as pd\n",
    "data = pd.Series([0.25,0.5,0.75,1.0],index = ['a','b','c','d'])\n",
    "data.values\n",
    "type(data.values)\n",
    "data.index\n",
    "data['a':'c']\n",
    "grades_dict = {'A':4,'B':3.5,'C':3,'D':2.5}\n",
    "grades = pd.Series(grades_dict)\n",
    "grades.values\n",
    "marks_dict = {'A':85,'B':75,'C':65,'D':55}\n",
    "marks = pd.Series(marks_dict)\n",
    "marks\n",
    "marks['A']\n",
    "marks[0:2]\n",
    "df = pd.DataFrame({'grades':grades,'marks':marks})\n",
    "df\n",
    "df.values\n",
    "df.columns\n",
    "df['ScaledMarks'] = 90*(df['marks']/100)\n",
    "del df['ScaledMarks']\n",
    "df"
   ]
  }
 ],
 "metadata": {
  "kernelspec": {
   "display_name": "Python 3",
   "language": "python",
   "name": "python3"
  },
  "language_info": {
   "codemirror_mode": {
    "name": "ipython",
    "version": 3
   },
   "file_extension": ".py",
   "mimetype": "text/x-python",
   "name": "python",
   "nbconvert_exporter": "python",
   "pygments_lexer": "ipython3",
   "version": "3.11.1"
  },
  "orig_nbformat": 4,
  "vscode": {
   "interpreter": {
    "hash": "27cd6e0588d5ae871fd7d5237b5abc4a81dd07efff8c13dafd54b722693647df"
   }
  }
 },
 "nbformat": 4,
 "nbformat_minor": 2
}
