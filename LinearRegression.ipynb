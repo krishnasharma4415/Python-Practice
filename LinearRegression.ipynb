{
 "cells": [
  {
   "cell_type": "code",
   "execution_count": null,
   "metadata": {},
   "outputs": [],
   "source": [
    "import numpy as np\n",
    "import pandas as pd\n",
    "import matplotlib.pyplot as plt\n",
    "from sklearn import linear_model\n",
    "#area = [2800,3000,3200,3600,4000]\n",
    "#price = [550000,565000,610000,680000,725000]\n",
    "df = pd.read_csv(\"Book1.csv\")\n",
    "df\n",
    "%matplotlib inline\n",
    "plt.xlabel('area')\n",
    "plt.ylabel('price')\n",
    "plt.scatter(df.area,df.price,color='red',marker='*')\n",
    "reg = linear_model.LinearRegression()\n",
    "reg.fit(df[['area']],df.price)\n",
    "reg.predict(price)\n"
   ]
  }
 ],
 "metadata": {
  "kernelspec": {
   "display_name": "Python 3",
   "language": "python",
   "name": "python3"
  },
  "language_info": {
   "codemirror_mode": {
    "name": "ipython",
    "version": 3
   },
   "file_extension": ".py",
   "mimetype": "text/x-python",
   "name": "python",
   "nbconvert_exporter": "python",
   "pygments_lexer": "ipython3",
   "version": "3.11.1"
  },
  "orig_nbformat": 4,
  "vscode": {
   "interpreter": {
    "hash": "27cd6e0588d5ae871fd7d5237b5abc4a81dd07efff8c13dafd54b722693647df"
   }
  }
 },
 "nbformat": 4,
 "nbformat_minor": 2
}
